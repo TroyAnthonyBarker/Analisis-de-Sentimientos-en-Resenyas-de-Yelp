{
 "cells": [
  {
   "cell_type": "markdown",
   "id": "54606ab2",
   "metadata": {},
   "source": [
    "# Fase 2 - Transformación\n",
    "\n",
    "Vamos a preparar los datos para poder Analizar-los."
   ]
  },
  {
   "cell_type": "markdown",
   "id": "8eee0641",
   "metadata": {},
   "source": [
    "## Limpieza de datos\n",
    "\n",
    "Vamos a explorar los datos y limpiarlos."
   ]
  },
  {
   "cell_type": "code",
   "execution_count": 1,
   "id": "bd424be2",
   "metadata": {},
   "outputs": [],
   "source": [
    "import pandas as pd\n",
    "\n",
    "filename = '../data/yelp_reviews.csv'\n",
    "\n",
    "df = pd.read_csv(filename)"
   ]
  },
  {
   "cell_type": "code",
   "execution_count": 2,
   "id": "a9a62070",
   "metadata": {},
   "outputs": [
    {
     "name": "stdout",
     "output_type": "stream",
     "text": [
      "<class 'pandas.core.frame.DataFrame'>\n",
      "RangeIndex: 700000 entries, 0 to 699999\n",
      "Data columns (total 2 columns):\n",
      " #   Column  Non-Null Count   Dtype \n",
      "---  ------  --------------   ----- \n",
      " 0   stars   700000 non-null  int64 \n",
      " 1   review  700000 non-null  object\n",
      "dtypes: int64(1), object(1)\n",
      "memory usage: 10.7+ MB\n"
     ]
    }
   ],
   "source": [
    "df.info()"
   ]
  },
  {
   "cell_type": "code",
   "execution_count": 3,
   "id": "d45846d2",
   "metadata": {},
   "outputs": [
    {
     "data": {
      "application/vnd.microsoft.datawrangler.viewer.v0+json": {
       "columns": [
        {
         "name": "index",
         "rawType": "object",
         "type": "string"
        },
        {
         "name": "stars",
         "rawType": "float64",
         "type": "float"
        }
       ],
       "ref": "bce517f3-a942-4452-b1b9-fcabf32112b2",
       "rows": [
        [
         "count",
         "700000.0"
        ],
        [
         "mean",
         "2.0"
        ],
        [
         "std",
         "1.414214572526722"
        ],
        [
         "min",
         "0.0"
        ],
        [
         "25%",
         "1.0"
        ],
        [
         "50%",
         "2.0"
        ],
        [
         "75%",
         "3.0"
        ],
        [
         "max",
         "4.0"
        ]
       ],
       "shape": {
        "columns": 1,
        "rows": 8
       }
      },
      "text/html": [
       "<div>\n",
       "<style scoped>\n",
       "    .dataframe tbody tr th:only-of-type {\n",
       "        vertical-align: middle;\n",
       "    }\n",
       "\n",
       "    .dataframe tbody tr th {\n",
       "        vertical-align: top;\n",
       "    }\n",
       "\n",
       "    .dataframe thead th {\n",
       "        text-align: right;\n",
       "    }\n",
       "</style>\n",
       "<table border=\"1\" class=\"dataframe\">\n",
       "  <thead>\n",
       "    <tr style=\"text-align: right;\">\n",
       "      <th></th>\n",
       "      <th>stars</th>\n",
       "    </tr>\n",
       "  </thead>\n",
       "  <tbody>\n",
       "    <tr>\n",
       "      <th>count</th>\n",
       "      <td>700000.000000</td>\n",
       "    </tr>\n",
       "    <tr>\n",
       "      <th>mean</th>\n",
       "      <td>2.000000</td>\n",
       "    </tr>\n",
       "    <tr>\n",
       "      <th>std</th>\n",
       "      <td>1.414215</td>\n",
       "    </tr>\n",
       "    <tr>\n",
       "      <th>min</th>\n",
       "      <td>0.000000</td>\n",
       "    </tr>\n",
       "    <tr>\n",
       "      <th>25%</th>\n",
       "      <td>1.000000</td>\n",
       "    </tr>\n",
       "    <tr>\n",
       "      <th>50%</th>\n",
       "      <td>2.000000</td>\n",
       "    </tr>\n",
       "    <tr>\n",
       "      <th>75%</th>\n",
       "      <td>3.000000</td>\n",
       "    </tr>\n",
       "    <tr>\n",
       "      <th>max</th>\n",
       "      <td>4.000000</td>\n",
       "    </tr>\n",
       "  </tbody>\n",
       "</table>\n",
       "</div>"
      ],
      "text/plain": [
       "               stars\n",
       "count  700000.000000\n",
       "mean        2.000000\n",
       "std         1.414215\n",
       "min         0.000000\n",
       "25%         1.000000\n",
       "50%         2.000000\n",
       "75%         3.000000\n",
       "max         4.000000"
      ]
     },
     "execution_count": 3,
     "metadata": {},
     "output_type": "execute_result"
    }
   ],
   "source": [
    "df.describe()"
   ]
  },
  {
   "cell_type": "code",
   "execution_count": 4,
   "id": "051ea3e8",
   "metadata": {},
   "outputs": [
    {
     "data": {
      "application/vnd.microsoft.datawrangler.viewer.v0+json": {
       "columns": [
        {
         "name": "index",
         "rawType": "int64",
         "type": "integer"
        },
        {
         "name": "stars",
         "rawType": "int64",
         "type": "integer"
        },
        {
         "name": "review",
         "rawType": "object",
         "type": "string"
        }
       ],
       "ref": "0f560f2c-86c2-40cd-be2c-c5238183ae0b",
       "rows": [
        [
         "0",
         "4",
         "dr. goldberg offers everything i look for in a general practitioner.  he's nice and easy to talk to without being patronizing; he's always on time in seeing his patients; he's affiliated with a top-notch hospital (nyu) which my parents have explained to me is very important in case something happens and you need surgery; and you can get referrals to see specialists without having to see him first.  really, what more do you need?  i'm sitting here trying to think of any complaints i have about him, but i'm really drawing a blank."
        ],
        [
         "1",
         "1",
         "Unfortunately, the frustration of being Dr. Goldberg's patient is a repeat of the experience I've had with so many other doctors in NYC -- good doctor, terrible staff.  It seems that his staff simply never answers the phone.  It usually takes 2 hours of repeated calling to get an answer.  Who has time for that or wants to deal with it?  I have run into this problem with many other doctors and I just don't get it.  You have office workers, you have patients with medical needs, why isn't anyone answering the phone?  It's incomprehensible and not work the aggravation.  It's with regret that I feel that I have to give Dr. Goldberg 2 stars."
        ],
        [
         "2",
         "3",
         "Been going to Dr. Goldberg for over 10 years. I think I was one of his 1st patients when he started at MHMG. He's been great over the years and is really all about the big picture. It is because of him, not my now former gyn Dr. Markoff, that I found out I have fibroids. He explores all options with you and is very patient and understanding. He doesn't judge and asks all the right questions. Very thorough and wants to be kept in the loop on every aspect of your medical health and your life."
        ],
        [
         "3",
         "3",
         "Got a letter in the mail last week that said Dr. Goldberg is moving to Arizona to take a new position there in June.  He will be missed very much.  \\n\\nI think finding a new doctor in NYC that you actually like might almost be as awful as trying to find a date!"
        ],
        [
         "4",
         "0",
         "I don't know what Dr. Goldberg was like before  moving to Arizona, but let me tell you, STAY AWAY from this doctor and this office. I was going to Dr. Johnson before he left and Goldberg took over when Johnson left. He is not a caring doctor. He is only interested in the co-pay and having you come in for medication refills every month. He will not give refills and could less about patients's financial situations. Trying to get your 90 days mail away pharmacy prescriptions through this guy is a joke. And to make matters even worse, his office staff is incompetent. 90% of the time when you call the office, they'll put you through to a voice mail, that NO ONE ever answers or returns your call. Both my adult children and husband have decided to leave this practice after experiencing such frustration. The entire office has an attitude like they are doing you a favor. Give me a break! Stay away from this doc and the practice. You deserve better and they will not be there when you really need them. I have never felt compelled to write a bad review about anyone until I met this pathetic excuse for a doctor who is all about the money."
        ]
       ],
       "shape": {
        "columns": 2,
        "rows": 5
       }
      },
      "text/html": [
       "<div>\n",
       "<style scoped>\n",
       "    .dataframe tbody tr th:only-of-type {\n",
       "        vertical-align: middle;\n",
       "    }\n",
       "\n",
       "    .dataframe tbody tr th {\n",
       "        vertical-align: top;\n",
       "    }\n",
       "\n",
       "    .dataframe thead th {\n",
       "        text-align: right;\n",
       "    }\n",
       "</style>\n",
       "<table border=\"1\" class=\"dataframe\">\n",
       "  <thead>\n",
       "    <tr style=\"text-align: right;\">\n",
       "      <th></th>\n",
       "      <th>stars</th>\n",
       "      <th>review</th>\n",
       "    </tr>\n",
       "  </thead>\n",
       "  <tbody>\n",
       "    <tr>\n",
       "      <th>0</th>\n",
       "      <td>4</td>\n",
       "      <td>dr. goldberg offers everything i look for in a...</td>\n",
       "    </tr>\n",
       "    <tr>\n",
       "      <th>1</th>\n",
       "      <td>1</td>\n",
       "      <td>Unfortunately, the frustration of being Dr. Go...</td>\n",
       "    </tr>\n",
       "    <tr>\n",
       "      <th>2</th>\n",
       "      <td>3</td>\n",
       "      <td>Been going to Dr. Goldberg for over 10 years. ...</td>\n",
       "    </tr>\n",
       "    <tr>\n",
       "      <th>3</th>\n",
       "      <td>3</td>\n",
       "      <td>Got a letter in the mail last week that said D...</td>\n",
       "    </tr>\n",
       "    <tr>\n",
       "      <th>4</th>\n",
       "      <td>0</td>\n",
       "      <td>I don't know what Dr. Goldberg was like before...</td>\n",
       "    </tr>\n",
       "  </tbody>\n",
       "</table>\n",
       "</div>"
      ],
      "text/plain": [
       "   stars                                             review\n",
       "0      4  dr. goldberg offers everything i look for in a...\n",
       "1      1  Unfortunately, the frustration of being Dr. Go...\n",
       "2      3  Been going to Dr. Goldberg for over 10 years. ...\n",
       "3      3  Got a letter in the mail last week that said D...\n",
       "4      0  I don't know what Dr. Goldberg was like before..."
      ]
     },
     "execution_count": 4,
     "metadata": {},
     "output_type": "execute_result"
    }
   ],
   "source": [
    "df.head()"
   ]
  },
  {
   "cell_type": "code",
   "execution_count": 5,
   "id": "5d46c252",
   "metadata": {},
   "outputs": [
    {
     "data": {
      "application/vnd.microsoft.datawrangler.viewer.v0+json": {
       "columns": [
        {
         "name": "index",
         "rawType": "object",
         "type": "string"
        },
        {
         "name": "0",
         "rawType": "int64",
         "type": "integer"
        }
       ],
       "ref": "3d02dc2a-2898-4e1d-8981-9ef45e6f4bba",
       "rows": [
        [
         "stars",
         "0"
        ],
        [
         "review",
         "0"
        ]
       ],
       "shape": {
        "columns": 1,
        "rows": 2
       }
      },
      "text/plain": [
       "stars     0\n",
       "review    0\n",
       "dtype: int64"
      ]
     },
     "execution_count": 5,
     "metadata": {},
     "output_type": "execute_result"
    }
   ],
   "source": [
    "df.isna().sum()"
   ]
  },
  {
   "cell_type": "markdown",
   "id": "7d07747a",
   "metadata": {},
   "source": [
    "## Preprocesamiento\n",
    "\n",
    "Vamos a preparar los textos.\n",
    "\n",
    "> Por tema de tiempo y recusos está parte se realizara sobre una sample."
   ]
  },
  {
   "cell_type": "code",
   "execution_count": 6,
   "id": "e09b3c68",
   "metadata": {},
   "outputs": [
    {
     "name": "stdout",
     "output_type": "stream",
     "text": [
      "Looking in indexes: https://pypi.org/simple, https://pypi.ngc.nvidia.com\n",
      "Collecting en-core-web-sm==3.8.0\n",
      "  Downloading https://github.com/explosion/spacy-models/releases/download/en_core_web_sm-3.8.0/en_core_web_sm-3.8.0-py3-none-any.whl (12.8 MB)\n",
      "     ---------------------------------------- 0.0/12.8 MB ? eta -:--:--\n",
      "     - -------------------------------------- 0.5/12.8 MB 5.6 MB/s eta 0:00:03\n",
      "     ---- ----------------------------------- 1.6/12.8 MB 5.2 MB/s eta 0:00:03\n",
      "     --------- ------------------------------ 2.9/12.8 MB 5.6 MB/s eta 0:00:02\n",
      "     ------------- -------------------------- 4.2/12.8 MB 5.7 MB/s eta 0:00:02\n",
      "     ---------------- ----------------------- 5.2/12.8 MB 5.6 MB/s eta 0:00:02\n",
      "     -------------------- ------------------- 6.6/12.8 MB 5.7 MB/s eta 0:00:02\n",
      "     ------------------------ --------------- 7.9/12.8 MB 5.7 MB/s eta 0:00:01\n",
      "     --------------------------- ------------ 8.9/12.8 MB 5.8 MB/s eta 0:00:01\n",
      "     ------------------------------- -------- 10.2/12.8 MB 5.6 MB/s eta 0:00:01\n",
      "     ----------------------------------- ---- 11.3/12.8 MB 5.5 MB/s eta 0:00:01\n",
      "     ------------------------------------- -- 12.1/12.8 MB 5.5 MB/s eta 0:00:01\n",
      "     ---------------------------------------- 12.8/12.8 MB 5.2 MB/s eta 0:00:00\n",
      "\u001b[38;5;2m✔ Download and installation successful\u001b[0m\n",
      "You can now load the package via spacy.load('en_core_web_sm')\n"
     ]
    }
   ],
   "source": [
    "!python -m spacy download en_core_web_sm"
   ]
  },
  {
   "cell_type": "code",
   "execution_count": 15,
   "id": "4e8c0eb9",
   "metadata": {},
   "outputs": [],
   "source": [
    "import sys\n",
    "sys.path.insert(0, '../src')\n",
    "from utils import clean_text\n",
    "# Create a sample of 10.000 reviews and clean the text\n",
    "sample = df.sample(10000, random_state=42)\n",
    "sample['review_clean'] = sample.review.apply(clean_text)\n",
    "\n",
    "# Clean the entire dataset\n",
    "# df['review_clean'] = df.review.apply(limpiar_texto)"
   ]
  },
  {
   "cell_type": "code",
   "execution_count": 16,
   "id": "5c848730",
   "metadata": {},
   "outputs": [
    {
     "data": {
      "application/vnd.microsoft.datawrangler.viewer.v0+json": {
       "columns": [
        {
         "name": "index",
         "rawType": "int64",
         "type": "integer"
        },
        {
         "name": "stars",
         "rawType": "int64",
         "type": "integer"
        },
        {
         "name": "review",
         "rawType": "object",
         "type": "string"
        },
        {
         "name": "review_clean",
         "rawType": "object",
         "type": "string"
        }
       ],
       "ref": "a53f9d57-e464-4493-b9d7-d8b7eb219c1f",
       "rows": [
        [
         "637949",
         "2",
         "I stopped in between sessions at a conference at the Venetian. It took the whole 30 minutes I had available to order and pay.\\n\\nI ordered the Mini Dark Chocolate Mousse, which looked great in the store, but by the time I got it back to my room after an hour long conference session, it was melted and unrecognizable It also turned sideways in the box, and chocolate leaked out, making a bit of mess.\\n\\nI also ordered the strawberry cheesecake which did better.\\n\\nIf you come here, I would give yourself plenty of time, and then eat the pastries right away, hopefully with some good coffee.\\n\\nI may give it another shot if I have time.",
         "stop session conference venetian take 30 minute available order pay.\\n\\ni order mini dark chocolate mousse look great store time get room hour long conference session melt unrecognizable turn sideways box chocolate leak make bit mess.\\n\\ni order strawberry cheesecake better.\\n\\nif come plenty time eat pastry right away hopefully good coffee.\\n\\ni shot time"
        ],
        [
         "656465",
         "3",
         "The Seafarer, like all Southern \\\"Fish Camps\\\", serves up all sorts of seafood and accouterment, with the majority of the items being fried.  The restaurant is owned by the same family that owns South 21 curb service on Independence Blvd, which has been there since you could cross Independence blvd at numerous intersections, even on foot (way long y'all).\\n\\nThat being said, its quality junk-food at its best.  Its by no means healthy, but its a lot better than any fast food you could put in your body.  The tartar sauce is famous and for good reason...its the best I've ever had and cannot be replicated (the recipe is super secret).  They have two types of cole slaw, either mayo or vinegar based, both of which are delish.\\n\\nI like to go during the week to beat the crowds, as on the weekend it is out of control (you can tell by the size of their parking lot).",
         "seafarer like southern \\\"fish camps\\ serve sort seafood accouterment majority item fry   restaurant own family own south 21 curb service independence blvd cross independence blvd numerous intersection foot way long y'all).\\n\\nthat say quality junk food good   mean healthy lot well fast food body   tartar sauce famous good reason good replicate recipe super secret   type cole slaw mayo vinegar base delish.\\n\\ni like week beat crowd weekend control tell size parking lot"
        ],
        [
         "337739",
         "4",
         "It's normal to travel 370 miles specifically for a restaurant, right? As soon as my boyfriend and I booked our flights to Montreal I reserved Friday dinner here. Three weeks away, and all I could get were two seats at the bar! This wound up being better in the end. Joe Beef's menu is ever-changing, written on a chalkboard on the wall (in French). The friendly bartender read us the entire menu, sharing recommendations as he went.  We ordered:\\n\\nThe freshest oysters I have ever tasted\\nTwo appetizers - the famous foie gras double down (half order), a menu staple consisting of two fried pieces of foie gras with bacon and maple syrup sandwiched between; and a shredded turkey leg concoction that was reshaped around a bone to look like a drumstick.I could have stopped here and been satisfied. The foie gras was out of this world. Life changing. I am so lucky that I do not live in Montreal, I would turn into a foie gras double down\\n\\nFor entrees, I had veal scaloppini and Jamie had the half hen. Both came with generous sides of rice, mashed potatoes and seasonal veggies. The veal was a bit salty, but everything else was perfect.\\n\\nThe courses were well-paced, and the bartender informed us that the restaurant allots at least three hours for each reservation. A refreshing and leisurely experience for us New Yorkers! Three hours later, the friendly barkeep gave us some maple sorbet to finish, and we were on our way, full and happy.",
         "normal travel 370 mile specifically restaurant right soon boyfriend book flight montreal reserve friday dinner week away seat bar wind well end joe beef menu change write chalkboard wall french friendly bartender read entire menu share recommendation go   ordered:\\n\\nthe fresh oyster tasted\\ntwo appetizer famous foie gra double half order menu staple consist fried piece foie gra bacon maple syrup sandwich shred turkey leg concoction reshape bone look like drumstick.i stop satisfied foie gra world life change lucky live montreal turn foie gra double down\\n\\nfor entree veal scaloppini jamie half hen come generous side rice mashed potato seasonal veggie veal bit salty perfect.\\n\\nthe course pace bartender inform restaurant allot hour reservation refreshing leisurely experience new yorker hour later friendly barkeep give maple sorbet finish way happy"
        ],
        [
         "230222",
         "2",
         "We went on Saturday night to satiate my craving for good karaoke. \\n\\nFor food I ordered the \\\"TV dinner\\\" which is a huge metal tray of two entrees and three sides. I tried the pulled pork, half rack of ribs, cornbread, mashed potatoes, rice, and veggie of the day. The ribs were falling off the bone and tender, but could have used extra sauce. The pulled pork was dry and really needed extra sauce, and the texture seemed off. The sides were all pretty much awful. You could tell they make a big batch in the morning and it sits there all day. In addition they were all vastly underseasoned. My husband had the black and blue burger, which strangely enough he said was OVERseasoned. So the food was pretty much disappointing, but you do get a lot for the price, and I'll give them the benefit of the doubt since they stop serving food at 11pm and we came at about 10:40. Next time we will try eating there earlier. \\n\\nThe service was fine; the waitress checked on us frequently and promptly. They do have a good beer list and the beer prices are okay, although the mixed drink prices are a teensy bit high for my tastes (although probably comparatively low for some South Side venues). The restrooms were cleaned and fully stocked, which is a plus for such a busy bar. Speaking of busy, the place was packed when we came, and they do boast an awesome patio that probably more than doubles their seating capacity.\\n\\nThe karaoke was AWESOME. It really saved this place from getting a two star review. They had a great, lively crowd doing some really zany and entertaining performances. The host has the best karaoke setup I've seen: live video background of you singing, playback clips of your performance, and a VERY up to date computerized catalog. If anything, I'll be back for his karaoke! We'll give the food a second shot another day.",
         "go saturday night satiate craving good karaoke \\n\\nfor food order \\\"tv dinner\\ huge metal tray entree side try pulled pork half rack rib cornbread mashed potato rice veggie day rib fall bone tender extra sauce pulled pork dry need extra sauce texture side pretty awful tell big batch morning sit day addition vastly underseasoned husband black blue burger strangely say overseasone food pretty disappointing lot price benefit doubt stop serve food 11 pm come 10:40 time try eat early \\n\\nthe service fine waitress check frequently promptly good beer list beer price okay mixed drink price teensy bit high taste probably comparatively low south venue restroom clean fully stock plus busy bar speak busy place pack come boast awesome patio probably double seating capacity.\\n\\nthe karaoke awesome save place get star review great lively crowd zany entertaining performance host good karaoke setup see live video background singe playback clip performance date computerize catalog karaoke food second shot day"
        ],
        [
         "82039",
         "1",
         "My husband and I were headed to Mellow Mushroom when we saw the sign for Selwyn Ave Pub - a big Shamrock, all Green and Irish Specials lured us in believing we were about to eat some Irish food.. We were so dead wrong, there wasn't a single irish related thing on the menu. The server was friendly and greeted us right away, My husband asked for coffee and the server told him \\\"There isn't any brewed, so.. anything else I can get you?\\\" ... So they HAVE coffee..but he didn't feel like making it? COOL. We should have left right then and there.. I guess the server kind of realized his error, and then tried to back pedal and excuse that the coffee takes \\\" a while \\\" to brew. My husband and I have been in the service industry before and I recognize laziness when I see it. If you don't have coffee brewed, you alert the customer of how much time it will take to brew - then let them decide if they still want it. \\n( The food \\\" takes a while \\\" to cook also.. WE STILL WANT TO EAT, THOUGH! )  \\nBut instead of making things complicated - My husband told him he would just take sweet tea instead and we just moved forward with trying to find out which meals we wanted. When we inquired about why there was no Irish food; the server told us it was because \\\"The regular customers would get sick of eating Irish food\\\" .... WHAAAAT? an Irish pub that doesn't serve anything Irish? This business is decorated in and advertising IRISH everything.. and it has a hanging sign that says IRISH SPECIALS. We were informed the irish specials are only during St. Patricks day.. So I guess that hanging sign is just left over from then = Example of More laziness and 2nd opportunity we should have just left.. but No.. we were running out of time, and we were hungry.. so we each ordered food the server recommended and it came out quick and hot. Thats cause it was all frozen and deep fried. Yaaay.. ( -_- ) I'm sure Selwyn Avenue Pub is a decent BAR... but don't go there hoping for anything special to EAT. Their outside seating looks inviting and the service was fast, just a little uneducated about their menu and less than eager to make you a pot of coffee.",
         "husband head mellow mushroom see sign selwyn ave pub big shamrock green irish special lure believe eat irish food dead wrong single irish relate thing menu server friendly greet right away husband ask coffee server tell \\\"there brew you?\\ coffee feel like make cool leave right guess server kind realize error try pedal excuse coffee take brew husband service industry recognize laziness coffee brew alert customer time brew let decide want \\n food take cook want eat   \\nbut instead make thing complicated husband tell sweet tea instead move forward try find meal want inquire irish food server tell \\\"the regular customer sick eat irish food\\ whaaaat irish pub serve irish business decorate advertising irish hang sign say irish special inform irish special st patrick day guess hang sign leave = example laziness 2nd opportunity leave run time hungry order food server recommend come quick hot s cause frozen deep fry yaaay sure selwyn avenue pub decent bar hope special eat outside seating look invite service fast little uneducated menu eager pot coffee"
        ]
       ],
       "shape": {
        "columns": 3,
        "rows": 5
       }
      },
      "text/html": [
       "<div>\n",
       "<style scoped>\n",
       "    .dataframe tbody tr th:only-of-type {\n",
       "        vertical-align: middle;\n",
       "    }\n",
       "\n",
       "    .dataframe tbody tr th {\n",
       "        vertical-align: top;\n",
       "    }\n",
       "\n",
       "    .dataframe thead th {\n",
       "        text-align: right;\n",
       "    }\n",
       "</style>\n",
       "<table border=\"1\" class=\"dataframe\">\n",
       "  <thead>\n",
       "    <tr style=\"text-align: right;\">\n",
       "      <th></th>\n",
       "      <th>stars</th>\n",
       "      <th>review</th>\n",
       "      <th>review_clean</th>\n",
       "    </tr>\n",
       "  </thead>\n",
       "  <tbody>\n",
       "    <tr>\n",
       "      <th>637949</th>\n",
       "      <td>2</td>\n",
       "      <td>I stopped in between sessions at a conference ...</td>\n",
       "      <td>stop session conference venetian take 30 minut...</td>\n",
       "    </tr>\n",
       "    <tr>\n",
       "      <th>656465</th>\n",
       "      <td>3</td>\n",
       "      <td>The Seafarer, like all Southern \\\"Fish Camps\\\"...</td>\n",
       "      <td>seafarer like southern \\\"fish camps\\ serve sor...</td>\n",
       "    </tr>\n",
       "    <tr>\n",
       "      <th>337739</th>\n",
       "      <td>4</td>\n",
       "      <td>It's normal to travel 370 miles specifically f...</td>\n",
       "      <td>normal travel 370 mile specifically restaurant...</td>\n",
       "    </tr>\n",
       "    <tr>\n",
       "      <th>230222</th>\n",
       "      <td>2</td>\n",
       "      <td>We went on Saturday night to satiate my cravin...</td>\n",
       "      <td>go saturday night satiate craving good karaoke...</td>\n",
       "    </tr>\n",
       "    <tr>\n",
       "      <th>82039</th>\n",
       "      <td>1</td>\n",
       "      <td>My husband and I were headed to Mellow Mushroo...</td>\n",
       "      <td>husband head mellow mushroom see sign selwyn a...</td>\n",
       "    </tr>\n",
       "  </tbody>\n",
       "</table>\n",
       "</div>"
      ],
      "text/plain": [
       "        stars                                             review  \\\n",
       "637949      2  I stopped in between sessions at a conference ...   \n",
       "656465      3  The Seafarer, like all Southern \\\"Fish Camps\\\"...   \n",
       "337739      4  It's normal to travel 370 miles specifically f...   \n",
       "230222      2  We went on Saturday night to satiate my cravin...   \n",
       "82039       1  My husband and I were headed to Mellow Mushroo...   \n",
       "\n",
       "                                             review_clean  \n",
       "637949  stop session conference venetian take 30 minut...  \n",
       "656465  seafarer like southern \\\"fish camps\\ serve sor...  \n",
       "337739  normal travel 370 mile specifically restaurant...  \n",
       "230222  go saturday night satiate craving good karaoke...  \n",
       "82039   husband head mellow mushroom see sign selwyn a...  "
      ]
     },
     "execution_count": 16,
     "metadata": {},
     "output_type": "execute_result"
    }
   ],
   "source": [
    "sample.head()\n",
    "# df.head()"
   ]
  },
  {
   "cell_type": "code",
   "execution_count": 17,
   "id": "6091984a",
   "metadata": {},
   "outputs": [],
   "source": [
    "output_filename = '../data/yelp_reviews_cleaned.csv'\n",
    "\n",
    "sample.to_csv(output_filename, index=False)\n",
    "\n",
    "# df.to_csv(output_filename, index=False)"
   ]
  }
 ],
 "metadata": {
  "kernelspec": {
   "display_name": ".analisis_yelp",
   "language": "python",
   "name": "python3"
  },
  "language_info": {
   "codemirror_mode": {
    "name": "ipython",
    "version": 3
   },
   "file_extension": ".py",
   "mimetype": "text/x-python",
   "name": "python",
   "nbconvert_exporter": "python",
   "pygments_lexer": "ipython3",
   "version": "3.12.9"
  }
 },
 "nbformat": 4,
 "nbformat_minor": 5
}
