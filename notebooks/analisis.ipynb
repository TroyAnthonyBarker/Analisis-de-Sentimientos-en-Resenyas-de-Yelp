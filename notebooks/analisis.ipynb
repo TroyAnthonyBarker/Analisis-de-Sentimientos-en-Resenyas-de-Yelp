{
 "cells": [
  {
   "cell_type": "markdown",
   "id": "264e42a5",
   "metadata": {},
   "source": [
    "# Fase 3 - Análisis\n",
    "\n",
    "En este notebook vamos a análizar los datos para identificar sentimientos, patrones y percepciones del cliente."
   ]
  },
  {
   "cell_type": "code",
   "execution_count": 1,
   "id": "3fe11083",
   "metadata": {},
   "outputs": [],
   "source": [
    "import pandas as pd\n",
    "import numpy as np\n",
    "import matplotlib.pyplot as plt\n",
    "import seaborn as sns\n",
    "from transformers import pipeline"
   ]
  },
  {
   "cell_type": "code",
   "execution_count": 2,
   "id": "5ddcb06d",
   "metadata": {},
   "outputs": [],
   "source": [
    "filename = '../data/yelp_reviews_cleaned.csv'"
   ]
  },
  {
   "cell_type": "code",
   "execution_count": 3,
   "id": "3eab5bef",
   "metadata": {},
   "outputs": [],
   "source": [
    "df = pd.read_csv(filename)"
   ]
  },
  {
   "cell_type": "code",
   "execution_count": 4,
   "id": "1d02b651",
   "metadata": {},
   "outputs": [
    {
     "data": {
      "application/vnd.microsoft.datawrangler.viewer.v0+json": {
       "columns": [
        {
         "name": "index",
         "rawType": "int64",
         "type": "integer"
        },
        {
         "name": "stars",
         "rawType": "int64",
         "type": "integer"
        },
        {
         "name": "review",
         "rawType": "object",
         "type": "string"
        },
        {
         "name": "review_clean",
         "rawType": "object",
         "type": "string"
        }
       ],
       "ref": "229868fe-03d2-4b66-8cba-bc1f3d34a028",
       "rows": [
        [
         "0",
         "2",
         "I stopped in between sessions at a conference at the Venetian. It took the whole 30 minutes I had available to order and pay.\\n\\nI ordered the Mini Dark Chocolate Mousse, which looked great in the store, but by the time I got it back to my room after an hour long conference session, it was melted and unrecognizable It also turned sideways in the box, and chocolate leaked out, making a bit of mess.\\n\\nI also ordered the strawberry cheesecake which did better.\\n\\nIf you come here, I would give yourself plenty of time, and then eat the pastries right away, hopefully with some good coffee.\\n\\nI may give it another shot if I have time.",
         "stop session conference venetian take 30 minute available order pay.\\n\\ni order mini dark chocolate mousse look great store time get room hour long conference session melt unrecognizable turn sideways box chocolate leak make bit mess.\\n\\ni order strawberry cheesecake better.\\n\\nif come plenty time eat pastry right away hopefully good coffee.\\n\\ni shot time"
        ],
        [
         "1",
         "3",
         "The Seafarer, like all Southern \\\"Fish Camps\\\", serves up all sorts of seafood and accouterment, with the majority of the items being fried.  The restaurant is owned by the same family that owns South 21 curb service on Independence Blvd, which has been there since you could cross Independence blvd at numerous intersections, even on foot (way long y'all).\\n\\nThat being said, its quality junk-food at its best.  Its by no means healthy, but its a lot better than any fast food you could put in your body.  The tartar sauce is famous and for good reason...its the best I've ever had and cannot be replicated (the recipe is super secret).  They have two types of cole slaw, either mayo or vinegar based, both of which are delish.\\n\\nI like to go during the week to beat the crowds, as on the weekend it is out of control (you can tell by the size of their parking lot).",
         "seafarer like southern \\\"fish camps\\ serve sort seafood accouterment majority item fry   restaurant own family own south 21 curb service independence blvd cross independence blvd numerous intersection foot way long y'all).\\n\\nthat say quality junk food good   mean healthy lot well fast food body   tartar sauce famous good reason good replicate recipe super secret   type cole slaw mayo vinegar base delish.\\n\\ni like week beat crowd weekend control tell size parking lot"
        ],
        [
         "2",
         "4",
         "It's normal to travel 370 miles specifically for a restaurant, right? As soon as my boyfriend and I booked our flights to Montreal I reserved Friday dinner here. Three weeks away, and all I could get were two seats at the bar! This wound up being better in the end. Joe Beef's menu is ever-changing, written on a chalkboard on the wall (in French). The friendly bartender read us the entire menu, sharing recommendations as he went.  We ordered:\\n\\nThe freshest oysters I have ever tasted\\nTwo appetizers - the famous foie gras double down (half order), a menu staple consisting of two fried pieces of foie gras with bacon and maple syrup sandwiched between; and a shredded turkey leg concoction that was reshaped around a bone to look like a drumstick.I could have stopped here and been satisfied. The foie gras was out of this world. Life changing. I am so lucky that I do not live in Montreal, I would turn into a foie gras double down\\n\\nFor entrees, I had veal scaloppini and Jamie had the half hen. Both came with generous sides of rice, mashed potatoes and seasonal veggies. The veal was a bit salty, but everything else was perfect.\\n\\nThe courses were well-paced, and the bartender informed us that the restaurant allots at least three hours for each reservation. A refreshing and leisurely experience for us New Yorkers! Three hours later, the friendly barkeep gave us some maple sorbet to finish, and we were on our way, full and happy.",
         "normal travel 370 mile specifically restaurant right soon boyfriend book flight montreal reserve friday dinner week away seat bar wind well end joe beef menu change write chalkboard wall french friendly bartender read entire menu share recommendation go   ordered:\\n\\nthe fresh oyster tasted\\ntwo appetizer famous foie gra double half order menu staple consist fried piece foie gra bacon maple syrup sandwich shred turkey leg concoction reshape bone look like drumstick.i stop satisfied foie gra world life change lucky live montreal turn foie gra double down\\n\\nfor entree veal scaloppini jamie half hen come generous side rice mashed potato seasonal veggie veal bit salty perfect.\\n\\nthe course pace bartender inform restaurant allot hour reservation refreshing leisurely experience new yorker hour later friendly barkeep give maple sorbet finish way happy"
        ],
        [
         "3",
         "2",
         "We went on Saturday night to satiate my craving for good karaoke. \\n\\nFor food I ordered the \\\"TV dinner\\\" which is a huge metal tray of two entrees and three sides. I tried the pulled pork, half rack of ribs, cornbread, mashed potatoes, rice, and veggie of the day. The ribs were falling off the bone and tender, but could have used extra sauce. The pulled pork was dry and really needed extra sauce, and the texture seemed off. The sides were all pretty much awful. You could tell they make a big batch in the morning and it sits there all day. In addition they were all vastly underseasoned. My husband had the black and blue burger, which strangely enough he said was OVERseasoned. So the food was pretty much disappointing, but you do get a lot for the price, and I'll give them the benefit of the doubt since they stop serving food at 11pm and we came at about 10:40. Next time we will try eating there earlier. \\n\\nThe service was fine; the waitress checked on us frequently and promptly. They do have a good beer list and the beer prices are okay, although the mixed drink prices are a teensy bit high for my tastes (although probably comparatively low for some South Side venues). The restrooms were cleaned and fully stocked, which is a plus for such a busy bar. Speaking of busy, the place was packed when we came, and they do boast an awesome patio that probably more than doubles their seating capacity.\\n\\nThe karaoke was AWESOME. It really saved this place from getting a two star review. They had a great, lively crowd doing some really zany and entertaining performances. The host has the best karaoke setup I've seen: live video background of you singing, playback clips of your performance, and a VERY up to date computerized catalog. If anything, I'll be back for his karaoke! We'll give the food a second shot another day.",
         "go saturday night satiate craving good karaoke \\n\\nfor food order \\\"tv dinner\\ huge metal tray entree side try pulled pork half rack rib cornbread mashed potato rice veggie day rib fall bone tender extra sauce pulled pork dry need extra sauce texture side pretty awful tell big batch morning sit day addition vastly underseasoned husband black blue burger strangely say overseasone food pretty disappointing lot price benefit doubt stop serve food 11 pm come 10:40 time try eat early \\n\\nthe service fine waitress check frequently promptly good beer list beer price okay mixed drink price teensy bit high taste probably comparatively low south venue restroom clean fully stock plus busy bar speak busy place pack come boast awesome patio probably double seating capacity.\\n\\nthe karaoke awesome save place get star review great lively crowd zany entertaining performance host good karaoke setup see live video background singe playback clip performance date computerize catalog karaoke food second shot day"
        ],
        [
         "4",
         "1",
         "My husband and I were headed to Mellow Mushroom when we saw the sign for Selwyn Ave Pub - a big Shamrock, all Green and Irish Specials lured us in believing we were about to eat some Irish food.. We were so dead wrong, there wasn't a single irish related thing on the menu. The server was friendly and greeted us right away, My husband asked for coffee and the server told him \\\"There isn't any brewed, so.. anything else I can get you?\\\" ... So they HAVE coffee..but he didn't feel like making it? COOL. We should have left right then and there.. I guess the server kind of realized his error, and then tried to back pedal and excuse that the coffee takes \\\" a while \\\" to brew. My husband and I have been in the service industry before and I recognize laziness when I see it. If you don't have coffee brewed, you alert the customer of how much time it will take to brew - then let them decide if they still want it. \\n( The food \\\" takes a while \\\" to cook also.. WE STILL WANT TO EAT, THOUGH! )  \\nBut instead of making things complicated - My husband told him he would just take sweet tea instead and we just moved forward with trying to find out which meals we wanted. When we inquired about why there was no Irish food; the server told us it was because \\\"The regular customers would get sick of eating Irish food\\\" .... WHAAAAT? an Irish pub that doesn't serve anything Irish? This business is decorated in and advertising IRISH everything.. and it has a hanging sign that says IRISH SPECIALS. We were informed the irish specials are only during St. Patricks day.. So I guess that hanging sign is just left over from then = Example of More laziness and 2nd opportunity we should have just left.. but No.. we were running out of time, and we were hungry.. so we each ordered food the server recommended and it came out quick and hot. Thats cause it was all frozen and deep fried. Yaaay.. ( -_- ) I'm sure Selwyn Avenue Pub is a decent BAR... but don't go there hoping for anything special to EAT. Their outside seating looks inviting and the service was fast, just a little uneducated about their menu and less than eager to make you a pot of coffee.",
         "husband head mellow mushroom see sign selwyn ave pub big shamrock green irish special lure believe eat irish food dead wrong single irish relate thing menu server friendly greet right away husband ask coffee server tell \\\"there brew you?\\ coffee feel like make cool leave right guess server kind realize error try pedal excuse coffee take brew husband service industry recognize laziness coffee brew alert customer time brew let decide want \\n food take cook want eat   \\nbut instead make thing complicated husband tell sweet tea instead move forward try find meal want inquire irish food server tell \\\"the regular customer sick eat irish food\\ whaaaat irish pub serve irish business decorate advertising irish hang sign say irish special inform irish special st patrick day guess hang sign leave = example laziness 2nd opportunity leave run time hungry order food server recommend come quick hot s cause frozen deep fry yaaay sure selwyn avenue pub decent bar hope special eat outside seating look invite service fast little uneducated menu eager pot coffee"
        ]
       ],
       "shape": {
        "columns": 3,
        "rows": 5
       }
      },
      "text/html": [
       "<div>\n",
       "<style scoped>\n",
       "    .dataframe tbody tr th:only-of-type {\n",
       "        vertical-align: middle;\n",
       "    }\n",
       "\n",
       "    .dataframe tbody tr th {\n",
       "        vertical-align: top;\n",
       "    }\n",
       "\n",
       "    .dataframe thead th {\n",
       "        text-align: right;\n",
       "    }\n",
       "</style>\n",
       "<table border=\"1\" class=\"dataframe\">\n",
       "  <thead>\n",
       "    <tr style=\"text-align: right;\">\n",
       "      <th></th>\n",
       "      <th>stars</th>\n",
       "      <th>review</th>\n",
       "      <th>review_clean</th>\n",
       "    </tr>\n",
       "  </thead>\n",
       "  <tbody>\n",
       "    <tr>\n",
       "      <th>0</th>\n",
       "      <td>2</td>\n",
       "      <td>I stopped in between sessions at a conference ...</td>\n",
       "      <td>stop session conference venetian take 30 minut...</td>\n",
       "    </tr>\n",
       "    <tr>\n",
       "      <th>1</th>\n",
       "      <td>3</td>\n",
       "      <td>The Seafarer, like all Southern \\\"Fish Camps\\\"...</td>\n",
       "      <td>seafarer like southern \\\"fish camps\\ serve sor...</td>\n",
       "    </tr>\n",
       "    <tr>\n",
       "      <th>2</th>\n",
       "      <td>4</td>\n",
       "      <td>It's normal to travel 370 miles specifically f...</td>\n",
       "      <td>normal travel 370 mile specifically restaurant...</td>\n",
       "    </tr>\n",
       "    <tr>\n",
       "      <th>3</th>\n",
       "      <td>2</td>\n",
       "      <td>We went on Saturday night to satiate my cravin...</td>\n",
       "      <td>go saturday night satiate craving good karaoke...</td>\n",
       "    </tr>\n",
       "    <tr>\n",
       "      <th>4</th>\n",
       "      <td>1</td>\n",
       "      <td>My husband and I were headed to Mellow Mushroo...</td>\n",
       "      <td>husband head mellow mushroom see sign selwyn a...</td>\n",
       "    </tr>\n",
       "  </tbody>\n",
       "</table>\n",
       "</div>"
      ],
      "text/plain": [
       "   stars                                             review  \\\n",
       "0      2  I stopped in between sessions at a conference ...   \n",
       "1      3  The Seafarer, like all Southern \\\"Fish Camps\\\"...   \n",
       "2      4  It's normal to travel 370 miles specifically f...   \n",
       "3      2  We went on Saturday night to satiate my cravin...   \n",
       "4      1  My husband and I were headed to Mellow Mushroo...   \n",
       "\n",
       "                                        review_clean  \n",
       "0  stop session conference venetian take 30 minut...  \n",
       "1  seafarer like southern \\\"fish camps\\ serve sor...  \n",
       "2  normal travel 370 mile specifically restaurant...  \n",
       "3  go saturday night satiate craving good karaoke...  \n",
       "4  husband head mellow mushroom see sign selwyn a...  "
      ]
     },
     "execution_count": 4,
     "metadata": {},
     "output_type": "execute_result"
    }
   ],
   "source": [
    "df.head()"
   ]
  },
  {
   "cell_type": "markdown",
   "id": "0272c585",
   "metadata": {},
   "source": [
    "## Análisis Exploratorio"
   ]
  },
  {
   "cell_type": "code",
   "execution_count": 5,
   "id": "459c2273",
   "metadata": {},
   "outputs": [
    {
     "data": {
      "image/png": "[encoded data removed]",
      "text/plain": [
       "<Figure size 640x480 with 1 Axes>"
      ]
     },
     "metadata": {},
     "output_type": "display_data"
    }
   ],
   "source": [
    "sns.countplot(x='stars', data=df)\n",
    "plt.title(\"Distribución de puntuaciones\")\n",
    "plt.xlabel(\"Puntuación\")\n",
    "plt.ylabel(\"Número de reseñas\")\n",
    "plt.show()"
   ]
  },
  {
   "cell_type": "code",
   "execution_count": 6,
   "id": "6220db7a",
   "metadata": {},
   "outputs": [
    {
     "data": {
      "image/png": "[encoded data removed]",
      "text/plain": [
       "<Figure size 640x480 with 1 Axes>"
      ]
     },
     "metadata": {},
     "output_type": "display_data"
    }
   ],
   "source": [
    "df['review_length'] = df['review'].apply(len)\n",
    "sns.histplot(df['review_length'], bins=50)\n",
    "plt.title(\"Distribución de la longitud de las reseñas\")\n",
    "plt.xlabel(\"Longitud de la reseña\")\n",
    "plt.ylabel(\"Frecuencia\")\n",
    "plt.show()"
   ]
  },
  {
   "cell_type": "markdown",
   "id": "3167fc9c",
   "metadata": {},
   "source": [
    "## Análisis de Sentimientos"
   ]
  },
  {
   "cell_type": "code",
   "execution_count": 8,
   "id": "ae58d48a",
   "metadata": {},
   "outputs": [
    {
     "name": "stderr",
     "output_type": "stream",
     "text": [
      "No model was supplied, defaulted to distilbert/distilbert-base-uncased-finetuned-sst-2-english and revision 714eb0f (https://huggingface.co/distilbert/distilbert-base-uncased-finetuned-sst-2-english).\n",
      "Using a pipeline without specifying a model name and revision in production is not recommended.\n"
     ]
    },
    {
     "name": "stdout",
     "output_type": "stream",
     "text": [
      "WARNING:tensorflow:From c:\\Users\\troy_\\OneDrive\\Documentos\\Evolve - Data Science & AI\\Analisis-de-Sentimientos-en-Resenyas-de-Yelp\\.analisis_yelp\\Lib\\site-packages\\tf_keras\\src\\losses.py:2976: The name tf.losses.sparse_softmax_cross_entropy is deprecated. Please use tf.compat.v1.losses.sparse_softmax_cross_entropy instead.\n",
      "\n"
     ]
    },
    {
     "name": "stderr",
     "output_type": "stream",
     "text": [
      "Xet Storage is enabled for this repo, but the 'hf_xet' package is not installed. Falling back to regular HTTP download. For better performance, install the package with: `pip install huggingface_hub[hf_xet]` or `pip install hf_xet`\n"
     ]
    },
    {
     "data": {
      "application/vnd.jupyter.widget-view+json": {
       "model_id": "9fe2462127264c03af528c3157205414",
       "version_major": 2,
       "version_minor": 0
      },
      "text/plain": [
       "model.safetensors:   0%|          | 0.00/268M [00:00<?, ?B/s]"
      ]
     },
     "metadata": {},
     "output_type": "display_data"
    },
    {
     "name": "stderr",
     "output_type": "stream",
     "text": [
      "c:\\Users\\troy_\\OneDrive\\Documentos\\Evolve - Data Science & AI\\Analisis-de-Sentimientos-en-Resenyas-de-Yelp\\.analisis_yelp\\Lib\\site-packages\\huggingface_hub\\file_download.py:143: UserWarning: `huggingface_hub` cache-system uses symlinks by default to efficiently store duplicated files but your machine does not support them in C:\\Users\\troy_\\.cache\\huggingface\\hub\\models--distilbert--distilbert-base-uncased-finetuned-sst-2-english. Caching files will still work but in a degraded version that might require more space on your disk. This warning can be disabled by setting the `HF_HUB_DISABLE_SYMLINKS_WARNING` environment variable. For more details, see https://huggingface.co/docs/huggingface_hub/how-to-cache#limitations.\n",
      "To support symlinks on Windows, you either need to activate Developer Mode or to run Python as an administrator. In order to activate developer mode, see this article: https://docs.microsoft.com/en-us/windows/apps/get-started/enable-your-device-for-development\n",
      "  warnings.warn(message)\n"
     ]
    },
    {
     "data": {
      "application/vnd.jupyter.widget-view+json": {
       "model_id": "ce6108553d0f448eaf81823f55ff1e07",
       "version_major": 2,
       "version_minor": 0
      },
      "text/plain": [
       "tokenizer_config.json:   0%|          | 0.00/48.0 [00:00<?, ?B/s]"
      ]
     },
     "metadata": {},
     "output_type": "display_data"
    },
    {
     "data": {
      "application/vnd.jupyter.widget-view+json": {
       "model_id": "d5eda28399d44f22a7cd0c6ad1c16af3",
       "version_major": 2,
       "version_minor": 0
      },
      "text/plain": [
       "vocab.txt:   0%|          | 0.00/232k [00:00<?, ?B/s]"
      ]
     },
     "metadata": {},
     "output_type": "display_data"
    },
    {
     "name": "stderr",
     "output_type": "stream",
     "text": [
      "Device set to use cpu\n"
     ]
    }
   ],
   "source": [
    "classifier = pipeline(\"sentiment-analysis\")"
   ]
  },
  {
   "cell_type": "code",
   "execution_count": 9,
   "id": "3fe5bb7b",
   "metadata": {},
   "outputs": [
    {
     "data": {
      "application/vnd.microsoft.datawrangler.viewer.v0+json": {
       "columns": [
        {
         "name": "index",
         "rawType": "int64",
         "type": "integer"
        },
        {
         "name": "stars",
         "rawType": "int64",
         "type": "integer"
        },
        {
         "name": "review",
         "rawType": "object",
         "type": "string"
        },
        {
         "name": "review_clean",
         "rawType": "object",
         "type": "string"
        },
        {
         "name": "review_length",
         "rawType": "int64",
         "type": "integer"
        }
       ],
       "ref": "91625562-ba91-45c5-828d-1f3ecd489cf5",
       "rows": [
        [
         "0",
         "2",
         "I stopped in between sessions at a conference at the Venetian. It took the whole 30 minutes I had available to order and pay.\\n\\nI ordered the Mini Dark Chocolate Mousse, which looked great in the store, but by the time I got it back to my room after an hour long conference session, it was melted and unrecognizable It also turned sideways in the box, and chocolate leaked out, making a bit of mess.\\n\\nI also ordered the strawberry cheesecake which did better.\\n\\nIf you come here, I would give yourself plenty of time, and then eat the pastries right away, hopefully with some good coffee.\\n\\nI may give it another shot if I have time.",
         "stop session conference venetian take 30 minute available order pay.\\n\\ni order mini dark chocolate mousse look great store time get room hour long conference session melt unrecognizable turn sideways box chocolate leak make bit mess.\\n\\ni order strawberry cheesecake better.\\n\\nif come plenty time eat pastry right away hopefully good coffee.\\n\\ni shot time",
         "638"
        ],
        [
         "1",
         "3",
         "The Seafarer, like all Southern \\\"Fish Camps\\\", serves up all sorts of seafood and accouterment, with the majority of the items being fried.  The restaurant is owned by the same family that owns South 21 curb service on Independence Blvd, which has been there since you could cross Independence blvd at numerous intersections, even on foot (way long y'all).\\n\\nThat being said, its quality junk-food at its best.  Its by no means healthy, but its a lot better than any fast food you could put in your body.  The tartar sauce is famous and for good reason...its the best I've ever had and cannot be replicated (the recipe is super secret).  They have two types of cole slaw, either mayo or vinegar based, both of which are delish.\\n\\nI like to go during the week to beat the crowds, as on the weekend it is out of control (you can tell by the size of their parking lot).",
         "seafarer like southern \\\"fish camps\\ serve sort seafood accouterment majority item fry   restaurant own family own south 21 curb service independence blvd cross independence blvd numerous intersection foot way long y'all).\\n\\nthat say quality junk food good   mean healthy lot well fast food body   tartar sauce famous good reason good replicate recipe super secret   type cole slaw mayo vinegar base delish.\\n\\ni like week beat crowd weekend control tell size parking lot",
         "869"
        ],
        [
         "2",
         "4",
         "It's normal to travel 370 miles specifically for a restaurant, right? As soon as my boyfriend and I booked our flights to Montreal I reserved Friday dinner here. Three weeks away, and all I could get were two seats at the bar! This wound up being better in the end. Joe Beef's menu is ever-changing, written on a chalkboard on the wall (in French). The friendly bartender read us the entire menu, sharing recommendations as he went.  We ordered:\\n\\nThe freshest oysters I have ever tasted\\nTwo appetizers - the famous foie gras double down (half order), a menu staple consisting of two fried pieces of foie gras with bacon and maple syrup sandwiched between; and a shredded turkey leg concoction that was reshaped around a bone to look like a drumstick.I could have stopped here and been satisfied. The foie gras was out of this world. Life changing. I am so lucky that I do not live in Montreal, I would turn into a foie gras double down\\n\\nFor entrees, I had veal scaloppini and Jamie had the half hen. Both came with generous sides of rice, mashed potatoes and seasonal veggies. The veal was a bit salty, but everything else was perfect.\\n\\nThe courses were well-paced, and the bartender informed us that the restaurant allots at least three hours for each reservation. A refreshing and leisurely experience for us New Yorkers! Three hours later, the friendly barkeep gave us some maple sorbet to finish, and we were on our way, full and happy.",
         "normal travel 370 mile specifically restaurant right soon boyfriend book flight montreal reserve friday dinner week away seat bar wind well end joe beef menu change write chalkboard wall french friendly bartender read entire menu share recommendation go   ordered:\\n\\nthe fresh oyster tasted\\ntwo appetizer famous foie gra double half order menu staple consist fried piece foie gra bacon maple syrup sandwich shred turkey leg concoction reshape bone look like drumstick.i stop satisfied foie gra world life change lucky live montreal turn foie gra double down\\n\\nfor entree veal scaloppini jamie half hen come generous side rice mashed potato seasonal veggie veal bit salty perfect.\\n\\nthe course pace bartender inform restaurant allot hour reservation refreshing leisurely experience new yorker hour later friendly barkeep give maple sorbet finish way happy",
         "1447"
        ],
        [
         "3",
         "2",
         "We went on Saturday night to satiate my craving for good karaoke. \\n\\nFor food I ordered the \\\"TV dinner\\\" which is a huge metal tray of two entrees and three sides. I tried the pulled pork, half rack of ribs, cornbread, mashed potatoes, rice, and veggie of the day. The ribs were falling off the bone and tender, but could have used extra sauce. The pulled pork was dry and really needed extra sauce, and the texture seemed off. The sides were all pretty much awful. You could tell they make a big batch in the morning and it sits there all day. In addition they were all vastly underseasoned. My husband had the black and blue burger, which strangely enough he said was OVERseasoned. So the food was pretty much disappointing, but you do get a lot for the price, and I'll give them the benefit of the doubt since they stop serving food at 11pm and we came at about 10:40. Next time we will try eating there earlier. \\n\\nThe service was fine; the waitress checked on us frequently and promptly. They do have a good beer list and the beer prices are okay, although the mixed drink prices are a teensy bit high for my tastes (although probably comparatively low for some South Side venues). The restrooms were cleaned and fully stocked, which is a plus for such a busy bar. Speaking of busy, the place was packed when we came, and they do boast an awesome patio that probably more than doubles their seating capacity.\\n\\nThe karaoke was AWESOME. It really saved this place from getting a two star review. They had a great, lively crowd doing some really zany and entertaining performances. The host has the best karaoke setup I've seen: live video background of you singing, playback clips of your performance, and a VERY up to date computerized catalog. If anything, I'll be back for his karaoke! We'll give the food a second shot another day.",
         "go saturday night satiate craving good karaoke \\n\\nfor food order \\\"tv dinner\\ huge metal tray entree side try pulled pork half rack rib cornbread mashed potato rice veggie day rib fall bone tender extra sauce pulled pork dry need extra sauce texture side pretty awful tell big batch morning sit day addition vastly underseasoned husband black blue burger strangely say overseasone food pretty disappointing lot price benefit doubt stop serve food 11 pm come 10:40 time try eat early \\n\\nthe service fine waitress check frequently promptly good beer list beer price okay mixed drink price teensy bit high taste probably comparatively low south venue restroom clean fully stock plus busy bar speak busy place pack come boast awesome patio probably double seating capacity.\\n\\nthe karaoke awesome save place get star review great lively crowd zany entertaining performance host good karaoke setup see live video background singe playback clip performance date computerize catalog karaoke food second shot day",
         "1843"
        ],
        [
         "4",
         "1",
         "My husband and I were headed to Mellow Mushroom when we saw the sign for Selwyn Ave Pub - a big Shamrock, all Green and Irish Specials lured us in believing we were about to eat some Irish food.. We were so dead wrong, there wasn't a single irish related thing on the menu. The server was friendly and greeted us right away, My husband asked for coffee and the server told him \\\"There isn't any brewed, so.. anything else I can get you?\\\" ... So they HAVE coffee..but he didn't feel like making it? COOL. We should have left right then and there.. I guess the server kind of realized his error, and then tried to back pedal and excuse that the coffee takes \\\" a while \\\" to brew. My husband and I have been in the service industry before and I recognize laziness when I see it. If you don't have coffee brewed, you alert the customer of how much time it will take to brew - then let them decide if they still want it. \\n( The food \\\" takes a while \\\" to cook also.. WE STILL WANT TO EAT, THOUGH! )  \\nBut instead of making things complicated - My husband told him he would just take sweet tea instead and we just moved forward with trying to find out which meals we wanted. When we inquired about why there was no Irish food; the server told us it was because \\\"The regular customers would get sick of eating Irish food\\\" .... WHAAAAT? an Irish pub that doesn't serve anything Irish? This business is decorated in and advertising IRISH everything.. and it has a hanging sign that says IRISH SPECIALS. We were informed the irish specials are only during St. Patricks day.. So I guess that hanging sign is just left over from then = Example of More laziness and 2nd opportunity we should have just left.. but No.. we were running out of time, and we were hungry.. so we each ordered food the server recommended and it came out quick and hot. Thats cause it was all frozen and deep fried. Yaaay.. ( -_- ) I'm sure Selwyn Avenue Pub is a decent BAR... but don't go there hoping for anything special to EAT. Their outside seating looks inviting and the service was fast, just a little uneducated about their menu and less than eager to make you a pot of coffee.",
         "husband head mellow mushroom see sign selwyn ave pub big shamrock green irish special lure believe eat irish food dead wrong single irish relate thing menu server friendly greet right away husband ask coffee server tell \\\"there brew you?\\ coffee feel like make cool leave right guess server kind realize error try pedal excuse coffee take brew husband service industry recognize laziness coffee brew alert customer time brew let decide want \\n food take cook want eat   \\nbut instead make thing complicated husband tell sweet tea instead move forward try find meal want inquire irish food server tell \\\"the regular customer sick eat irish food\\ whaaaat irish pub serve irish business decorate advertising irish hang sign say irish special inform irish special st patrick day guess hang sign leave = example laziness 2nd opportunity leave run time hungry order food server recommend come quick hot s cause frozen deep fry yaaay sure selwyn avenue pub decent bar hope special eat outside seating look invite service fast little uneducated menu eager pot coffee",
         "2156"
        ]
       ],
       "shape": {
        "columns": 4,
        "rows": 5
       }
      },
      "text/html": [
       "<div>\n",
       "<style scoped>\n",
       "    .dataframe tbody tr th:only-of-type {\n",
       "        vertical-align: middle;\n",
       "    }\n",
       "\n",
       "    .dataframe tbody tr th {\n",
       "        vertical-align: top;\n",
       "    }\n",
       "\n",
       "    .dataframe thead th {\n",
       "        text-align: right;\n",
       "    }\n",
       "</style>\n",
       "<table border=\"1\" class=\"dataframe\">\n",
       "  <thead>\n",
       "    <tr style=\"text-align: right;\">\n",
       "      <th></th>\n",
       "      <th>stars</th>\n",
       "      <th>review</th>\n",
       "      <th>review_clean</th>\n",
       "      <th>review_length</th>\n",
       "    </tr>\n",
       "  </thead>\n",
       "  <tbody>\n",
       "    <tr>\n",
       "      <th>0</th>\n",
       "      <td>2</td>\n",
       "      <td>I stopped in between sessions at a conference ...</td>\n",
       "      <td>stop session conference venetian take 30 minut...</td>\n",
       "      <td>638</td>\n",
       "    </tr>\n",
       "    <tr>\n",
       "      <th>1</th>\n",
       "      <td>3</td>\n",
       "      <td>The Seafarer, like all Southern \\\"Fish Camps\\\"...</td>\n",
       "      <td>seafarer like southern \\\"fish camps\\ serve sor...</td>\n",
       "      <td>869</td>\n",
       "    </tr>\n",
       "    <tr>\n",
       "      <th>2</th>\n",
       "      <td>4</td>\n",
       "      <td>It's normal to travel 370 miles specifically f...</td>\n",
       "      <td>normal travel 370 mile specifically restaurant...</td>\n",
       "      <td>1447</td>\n",
       "    </tr>\n",
       "    <tr>\n",
       "      <th>3</th>\n",
       "      <td>2</td>\n",
       "      <td>We went on Saturday night to satiate my cravin...</td>\n",
       "      <td>go saturday night satiate craving good karaoke...</td>\n",
       "      <td>1843</td>\n",
       "    </tr>\n",
       "    <tr>\n",
       "      <th>4</th>\n",
       "      <td>1</td>\n",
       "      <td>My husband and I were headed to Mellow Mushroo...</td>\n",
       "      <td>husband head mellow mushroom see sign selwyn a...</td>\n",
       "      <td>2156</td>\n",
       "    </tr>\n",
       "  </tbody>\n",
       "</table>\n",
       "</div>"
      ],
      "text/plain": [
       "   stars                                             review  \\\n",
       "0      2  I stopped in between sessions at a conference ...   \n",
       "1      3  The Seafarer, like all Southern \\\"Fish Camps\\\"...   \n",
       "2      4  It's normal to travel 370 miles specifically f...   \n",
       "3      2  We went on Saturday night to satiate my cravin...   \n",
       "4      1  My husband and I were headed to Mellow Mushroo...   \n",
       "\n",
       "                                        review_clean  review_length  \n",
       "0  stop session conference venetian take 30 minut...            638  \n",
       "1  seafarer like southern \\\"fish camps\\ serve sor...            869  \n",
       "2  normal travel 370 mile specifically restaurant...           1447  \n",
       "3  go saturday night satiate craving good karaoke...           1843  \n",
       "4  husband head mellow mushroom see sign selwyn a...           2156  "
      ]
     },
     "execution_count": 9,
     "metadata": {},
     "output_type": "execute_result"
    }
   ],
   "source": [
    "df.head()"
   ]
  },
  {
   "cell_type": "code",
   "execution_count": null,
   "id": "6bc9122f",
   "metadata": {},
   "outputs": [],
   "source": [
    "from src.utils import sentiment_classifier\n",
    "df['sentimiento'] = df['review_clean'].apply(lambda x: sentiment_classifier(x[:512])[0]['label'])"
   ]
  },
  {
   "cell_type": "code",
   "execution_count": 28,
   "id": "0ead01d0",
   "metadata": {},
   "outputs": [],
   "source": [
    "df['sentimiento'] = df['sentimiento'].map({'POSITIVE': 'Positivo', 'NEGATIVE': 'Negativo'})"
   ]
  },
  {
   "cell_type": "code",
   "execution_count": 29,
   "id": "ac9ef4d9",
   "metadata": {},
   "outputs": [
    {
     "data": {
      "application/vnd.microsoft.datawrangler.viewer.v0+json": {
       "columns": [
        {
         "name": "index",
         "rawType": "int64",
         "type": "integer"
        },
        {
         "name": "stars",
         "rawType": "int64",
         "type": "integer"
        },
        {
         "name": "review",
         "rawType": "object",
         "type": "string"
        },
        {
         "name": "review_clean",
         "rawType": "object",
         "type": "string"
        },
        {
         "name": "review_length",
         "rawType": "int64",
         "type": "integer"
        },
        {
         "name": "sentimiento",
         "rawType": "object",
         "type": "string"
        }
       ],
       "ref": "0de95803-348f-4ec9-bad2-78e1d1ab9754",
       "rows": [
        [
         "0",
         "2",
         "I stopped in between sessions at a conference at the Venetian. It took the whole 30 minutes I had available to order and pay.\\n\\nI ordered the Mini Dark Chocolate Mousse, which looked great in the store, but by the time I got it back to my room after an hour long conference session, it was melted and unrecognizable It also turned sideways in the box, and chocolate leaked out, making a bit of mess.\\n\\nI also ordered the strawberry cheesecake which did better.\\n\\nIf you come here, I would give yourself plenty of time, and then eat the pastries right away, hopefully with some good coffee.\\n\\nI may give it another shot if I have time.",
         "stop session conference venetian take 30 minute available order pay.\\n\\ni order mini dark chocolate mousse look great store time get room hour long conference session melt unrecognizable turn sideways box chocolate leak make bit mess.\\n\\ni order strawberry cheesecake better.\\n\\nif come plenty time eat pastry right away hopefully good coffee.\\n\\ni shot time",
         "638",
         "Negativo"
        ],
        [
         "1",
         "3",
         "The Seafarer, like all Southern \\\"Fish Camps\\\", serves up all sorts of seafood and accouterment, with the majority of the items being fried.  The restaurant is owned by the same family that owns South 21 curb service on Independence Blvd, which has been there since you could cross Independence blvd at numerous intersections, even on foot (way long y'all).\\n\\nThat being said, its quality junk-food at its best.  Its by no means healthy, but its a lot better than any fast food you could put in your body.  The tartar sauce is famous and for good reason...its the best I've ever had and cannot be replicated (the recipe is super secret).  They have two types of cole slaw, either mayo or vinegar based, both of which are delish.\\n\\nI like to go during the week to beat the crowds, as on the weekend it is out of control (you can tell by the size of their parking lot).",
         "seafarer like southern \\\"fish camps\\ serve sort seafood accouterment majority item fry   restaurant own family own south 21 curb service independence blvd cross independence blvd numerous intersection foot way long y'all).\\n\\nthat say quality junk food good   mean healthy lot well fast food body   tartar sauce famous good reason good replicate recipe super secret   type cole slaw mayo vinegar base delish.\\n\\ni like week beat crowd weekend control tell size parking lot",
         "869",
         "Negativo"
        ],
        [
         "2",
         "4",
         "It's normal to travel 370 miles specifically for a restaurant, right? As soon as my boyfriend and I booked our flights to Montreal I reserved Friday dinner here. Three weeks away, and all I could get were two seats at the bar! This wound up being better in the end. Joe Beef's menu is ever-changing, written on a chalkboard on the wall (in French). The friendly bartender read us the entire menu, sharing recommendations as he went.  We ordered:\\n\\nThe freshest oysters I have ever tasted\\nTwo appetizers - the famous foie gras double down (half order), a menu staple consisting of two fried pieces of foie gras with bacon and maple syrup sandwiched between; and a shredded turkey leg concoction that was reshaped around a bone to look like a drumstick.I could have stopped here and been satisfied. The foie gras was out of this world. Life changing. I am so lucky that I do not live in Montreal, I would turn into a foie gras double down\\n\\nFor entrees, I had veal scaloppini and Jamie had the half hen. Both came with generous sides of rice, mashed potatoes and seasonal veggies. The veal was a bit salty, but everything else was perfect.\\n\\nThe courses were well-paced, and the bartender informed us that the restaurant allots at least three hours for each reservation. A refreshing and leisurely experience for us New Yorkers! Three hours later, the friendly barkeep gave us some maple sorbet to finish, and we were on our way, full and happy.",
         "normal travel 370 mile specifically restaurant right soon boyfriend book flight montreal reserve friday dinner week away seat bar wind well end joe beef menu change write chalkboard wall french friendly bartender read entire menu share recommendation go   ordered:\\n\\nthe fresh oyster tasted\\ntwo appetizer famous foie gra double half order menu staple consist fried piece foie gra bacon maple syrup sandwich shred turkey leg concoction reshape bone look like drumstick.i stop satisfied foie gra world life change lucky live montreal turn foie gra double down\\n\\nfor entree veal scaloppini jamie half hen come generous side rice mashed potato seasonal veggie veal bit salty perfect.\\n\\nthe course pace bartender inform restaurant allot hour reservation refreshing leisurely experience new yorker hour later friendly barkeep give maple sorbet finish way happy",
         "1447",
         "Negativo"
        ],
        [
         "3",
         "2",
         "We went on Saturday night to satiate my craving for good karaoke. \\n\\nFor food I ordered the \\\"TV dinner\\\" which is a huge metal tray of two entrees and three sides. I tried the pulled pork, half rack of ribs, cornbread, mashed potatoes, rice, and veggie of the day. The ribs were falling off the bone and tender, but could have used extra sauce. The pulled pork was dry and really needed extra sauce, and the texture seemed off. The sides were all pretty much awful. You could tell they make a big batch in the morning and it sits there all day. In addition they were all vastly underseasoned. My husband had the black and blue burger, which strangely enough he said was OVERseasoned. So the food was pretty much disappointing, but you do get a lot for the price, and I'll give them the benefit of the doubt since they stop serving food at 11pm and we came at about 10:40. Next time we will try eating there earlier. \\n\\nThe service was fine; the waitress checked on us frequently and promptly. They do have a good beer list and the beer prices are okay, although the mixed drink prices are a teensy bit high for my tastes (although probably comparatively low for some South Side venues). The restrooms were cleaned and fully stocked, which is a plus for such a busy bar. Speaking of busy, the place was packed when we came, and they do boast an awesome patio that probably more than doubles their seating capacity.\\n\\nThe karaoke was AWESOME. It really saved this place from getting a two star review. They had a great, lively crowd doing some really zany and entertaining performances. The host has the best karaoke setup I've seen: live video background of you singing, playback clips of your performance, and a VERY up to date computerized catalog. If anything, I'll be back for his karaoke! We'll give the food a second shot another day.",
         "go saturday night satiate craving good karaoke \\n\\nfor food order \\\"tv dinner\\ huge metal tray entree side try pulled pork half rack rib cornbread mashed potato rice veggie day rib fall bone tender extra sauce pulled pork dry need extra sauce texture side pretty awful tell big batch morning sit day addition vastly underseasoned husband black blue burger strangely say overseasone food pretty disappointing lot price benefit doubt stop serve food 11 pm come 10:40 time try eat early \\n\\nthe service fine waitress check frequently promptly good beer list beer price okay mixed drink price teensy bit high taste probably comparatively low south venue restroom clean fully stock plus busy bar speak busy place pack come boast awesome patio probably double seating capacity.\\n\\nthe karaoke awesome save place get star review great lively crowd zany entertaining performance host good karaoke setup see live video background singe playback clip performance date computerize catalog karaoke food second shot day",
         "1843",
         "Negativo"
        ],
        [
         "4",
         "1",
         "My husband and I were headed to Mellow Mushroom when we saw the sign for Selwyn Ave Pub - a big Shamrock, all Green and Irish Specials lured us in believing we were about to eat some Irish food.. We were so dead wrong, there wasn't a single irish related thing on the menu. The server was friendly and greeted us right away, My husband asked for coffee and the server told him \\\"There isn't any brewed, so.. anything else I can get you?\\\" ... So they HAVE coffee..but he didn't feel like making it? COOL. We should have left right then and there.. I guess the server kind of realized his error, and then tried to back pedal and excuse that the coffee takes \\\" a while \\\" to brew. My husband and I have been in the service industry before and I recognize laziness when I see it. If you don't have coffee brewed, you alert the customer of how much time it will take to brew - then let them decide if they still want it. \\n( The food \\\" takes a while \\\" to cook also.. WE STILL WANT TO EAT, THOUGH! )  \\nBut instead of making things complicated - My husband told him he would just take sweet tea instead and we just moved forward with trying to find out which meals we wanted. When we inquired about why there was no Irish food; the server told us it was because \\\"The regular customers would get sick of eating Irish food\\\" .... WHAAAAT? an Irish pub that doesn't serve anything Irish? This business is decorated in and advertising IRISH everything.. and it has a hanging sign that says IRISH SPECIALS. We were informed the irish specials are only during St. Patricks day.. So I guess that hanging sign is just left over from then = Example of More laziness and 2nd opportunity we should have just left.. but No.. we were running out of time, and we were hungry.. so we each ordered food the server recommended and it came out quick and hot. Thats cause it was all frozen and deep fried. Yaaay.. ( -_- ) I'm sure Selwyn Avenue Pub is a decent BAR... but don't go there hoping for anything special to EAT. Their outside seating looks inviting and the service was fast, just a little uneducated about their menu and less than eager to make you a pot of coffee.",
         "husband head mellow mushroom see sign selwyn ave pub big shamrock green irish special lure believe eat irish food dead wrong single irish relate thing menu server friendly greet right away husband ask coffee server tell \\\"there brew you?\\ coffee feel like make cool leave right guess server kind realize error try pedal excuse coffee take brew husband service industry recognize laziness coffee brew alert customer time brew let decide want \\n food take cook want eat   \\nbut instead make thing complicated husband tell sweet tea instead move forward try find meal want inquire irish food server tell \\\"the regular customer sick eat irish food\\ whaaaat irish pub serve irish business decorate advertising irish hang sign say irish special inform irish special st patrick day guess hang sign leave = example laziness 2nd opportunity leave run time hungry order food server recommend come quick hot s cause frozen deep fry yaaay sure selwyn avenue pub decent bar hope special eat outside seating look invite service fast little uneducated menu eager pot coffee",
         "2156",
         "Negativo"
        ]
       ],
       "shape": {
        "columns": 5,
        "rows": 5
       }
      },
      "text/html": [
       "<div>\n",
       "<style scoped>\n",
       "    .dataframe tbody tr th:only-of-type {\n",
       "        vertical-align: middle;\n",
       "    }\n",
       "\n",
       "    .dataframe tbody tr th {\n",
       "        vertical-align: top;\n",
       "    }\n",
       "\n",
       "    .dataframe thead th {\n",
       "        text-align: right;\n",
       "    }\n",
       "</style>\n",
       "<table border=\"1\" class=\"dataframe\">\n",
       "  <thead>\n",
       "    <tr style=\"text-align: right;\">\n",
       "      <th></th>\n",
       "      <th>stars</th>\n",
       "      <th>review</th>\n",
       "      <th>review_clean</th>\n",
       "      <th>review_length</th>\n",
       "      <th>sentimiento</th>\n",
       "    </tr>\n",
       "  </thead>\n",
       "  <tbody>\n",
       "    <tr>\n",
       "      <th>0</th>\n",
       "      <td>2</td>\n",
       "      <td>I stopped in between sessions at a conference ...</td>\n",
       "      <td>stop session conference venetian take 30 minut...</td>\n",
       "      <td>638</td>\n",
       "      <td>Negativo</td>\n",
       "    </tr>\n",
       "    <tr>\n",
       "      <th>1</th>\n",
       "      <td>3</td>\n",
       "      <td>The Seafarer, like all Southern \\\"Fish Camps\\\"...</td>\n",
       "      <td>seafarer like southern \\\"fish camps\\ serve sor...</td>\n",
       "      <td>869</td>\n",
       "      <td>Negativo</td>\n",
       "    </tr>\n",
       "    <tr>\n",
       "      <th>2</th>\n",
       "      <td>4</td>\n",
       "      <td>It's normal to travel 370 miles specifically f...</td>\n",
       "      <td>normal travel 370 mile specifically restaurant...</td>\n",
       "      <td>1447</td>\n",
       "      <td>Negativo</td>\n",
       "    </tr>\n",
       "    <tr>\n",
       "      <th>3</th>\n",
       "      <td>2</td>\n",
       "      <td>We went on Saturday night to satiate my cravin...</td>\n",
       "      <td>go saturday night satiate craving good karaoke...</td>\n",
       "      <td>1843</td>\n",
       "      <td>Negativo</td>\n",
       "    </tr>\n",
       "    <tr>\n",
       "      <th>4</th>\n",
       "      <td>1</td>\n",
       "      <td>My husband and I were headed to Mellow Mushroo...</td>\n",
       "      <td>husband head mellow mushroom see sign selwyn a...</td>\n",
       "      <td>2156</td>\n",
       "      <td>Negativo</td>\n",
       "    </tr>\n",
       "  </tbody>\n",
       "</table>\n",
       "</div>"
      ],
      "text/plain": [
       "   stars                                             review  \\\n",
       "0      2  I stopped in between sessions at a conference ...   \n",
       "1      3  The Seafarer, like all Southern \\\"Fish Camps\\\"...   \n",
       "2      4  It's normal to travel 370 miles specifically f...   \n",
       "3      2  We went on Saturday night to satiate my cravin...   \n",
       "4      1  My husband and I were headed to Mellow Mushroo...   \n",
       "\n",
       "                                        review_clean  review_length  \\\n",
       "0  stop session conference venetian take 30 minut...            638   \n",
       "1  seafarer like southern \\\"fish camps\\ serve sor...            869   \n",
       "2  normal travel 370 mile specifically restaurant...           1447   \n",
       "3  go saturday night satiate craving good karaoke...           1843   \n",
       "4  husband head mellow mushroom see sign selwyn a...           2156   \n",
       "\n",
       "  sentimiento  \n",
       "0    Negativo  \n",
       "1    Negativo  \n",
       "2    Negativo  \n",
       "3    Negativo  \n",
       "4    Negativo  "
      ]
     },
     "execution_count": 29,
     "metadata": {},
     "output_type": "execute_result"
    }
   ],
   "source": [
    "df.head()"
   ]
  },
  {
   "cell_type": "code",
   "execution_count": 34,
   "id": "af33d7f1",
   "metadata": {},
   "outputs": [
    {
     "data": {
      "image/png": "[encoded data removed]",
      "text/plain": [
       "<Figure size 1000x600 with 1 Axes>"
      ]
     },
     "metadata": {},
     "output_type": "display_data"
    }
   ],
   "source": [
    "plt.figure(figsize=(10, 6))\n",
    "sns.countplot(x='sentimiento', data=df, order=df['sentimiento'].value_counts().index)\n",
    "plt.title(\"Distribución de sentimientos en las reseñas\", fontsize=16, fontweight='bold', fontfamily='Arial')\n",
    "plt.xlabel(\"Sentimiento\", fontsize=14, fontweight='bold', fontfamily='Times New Roman')\n",
    "plt.ylabel(\"Número de reseñas\", fontsize=14, fontweight='bold', fontfamily='Times New Roman')\n",
    "plt.show()"
   ]
  },
  {
   "cell_type": "markdown",
   "id": "a59f8d25",
   "metadata": {},
   "source": [
    "## Guardar cambios realizados en los datos para leerlos para la visualización."
   ]
  },
  {
   "cell_type": "code",
   "execution_count": 35,
   "id": "3947ba0c",
   "metadata": {},
   "outputs": [],
   "source": [
    "output_filename = '../data/yelp_reviews_classified.csv'\n",
    "\n",
    "df.to_csv(output_filename, index=False)"
   ]
  }
 ],
 "metadata": {
  "kernelspec": {
   "display_name": ".analisis_yelp",
   "language": "python",
   "name": "python3"
  },
  "language_info": {
   "codemirror_mode": {
    "name": "ipython",
    "version": 3
   },
   "file_extension": ".py",
   "mimetype": "text/x-python",
   "name": "python",
   "nbconvert_exporter": "python",
   "pygments_lexer": "ipython3",
   "version": "3.12.9"
  }
 },
 "nbformat": 4,
 "nbformat_minor": 5
}
